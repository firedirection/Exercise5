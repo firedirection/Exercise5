{
 "cells": [
  {
   "cell_type": "markdown",
   "metadata": {},
   "source": [
    "## Problem 2a - Data manipulation (5 points)\n",
    "\n",
    "Similarly as in earlier exercises the temperatures in our data are represented in Fahrenheit, hence,\n",
    "you need to convert the temperatures into Celsius.\n",
    "\n",
    "\n",
    "First, read again  the data from '6153237444115dat.csv' into a varaible `data` (you can copy your code from problem 1 here):"
   ]
  },
  {
   "cell_type": "code",
   "execution_count": 2,
   "metadata": {
    "deletable": false,
    "nbgrader": {
     "checksum": "a641a478f40eb48ea935a5d3b687a786",
     "grade": false,
     "grade_id": "read_csv",
     "locked": false,
     "schema_version": 1,
     "solution": true
    }
   },
   "outputs": [],
   "source": [
    "import pandas as pd\n",
    "data = pd.read_csv(\"6153237444115dat.csv\",na_values=['*', '**', '***', '****', '*****', '******'] )"
   ]
  },
  {
   "cell_type": "markdown",
   "metadata": {},
   "source": [
    "**Subset data and remove no data values** (2 points)\n",
    "\n",
    "In the codeblock below:\n",
    " - Create a new variable `selected`\n",
    " - Select from the `data` columns `USAF, YR--MODAHRMN, TEMP, MAX, MIN` and assign them into the new variable `selected`\n",
    " - Remove all rows from `selected` that has NoData in column `TEMP` using the `dropna()` -function"
   ]
  },
  {
   "cell_type": "code",
   "execution_count": 5,
   "metadata": {
    "deletable": false,
    "nbgrader": {
     "checksum": "be792b8982d5572e99dfe08710a21ccf",
     "grade": false,
     "grade_id": "dataframe_subset",
     "locked": false,
     "schema_version": 1,
     "solution": true
    }
   },
   "outputs": [],
   "source": [
    "selected = data[['USAF','YR--MODAHRMN','TEMP','MAX','MIN']]\n",
    "dataCleaned = selected.dropna(subset = ['TEMP'])"
   ]
  },
  {
   "cell_type": "code",
   "execution_count": null,
   "metadata": {
    "deletable": false,
    "editable": false,
    "nbgrader": {
     "checksum": "063362e2915cbe9717a610c67ab108d3",
     "grade": true,
     "grade_id": "dataframe_subset_test",
     "locked": true,
     "points": 2,
     "schema_version": 1,
     "solution": false
    }
   },
   "outputs": [],
   "source": [
    "# Check your dataframe (for example using the head() and len() -functions)\n",
    "\n"
   ]
  },
  {
   "cell_type": "code",
   "execution_count": 8,
   "metadata": {},
   "outputs": [
    {
     "name": "stdout",
     "output_type": "stream",
     "text": [
      "    USAF  YR--MODAHRMN  TEMP  MAX  MIN\n",
      "0  28450  201705010000  31.0  NaN  NaN\n",
      "1  28450  201705010020  30.0  NaN  NaN\n",
      "2  28450  201705010050  30.0  NaN  NaN\n",
      "3  28450  201705010100  31.0  NaN  NaN\n",
      "4  28450  201705010120  30.0  NaN  NaN\n"
     ]
    }
   ],
   "source": [
    "print(dataCleaned.head())"
   ]
  },
  {
   "cell_type": "markdown",
   "metadata": {},
   "source": [
    "**Convert fahrenheit to celsius** (2 points)\n",
    "- Create a new column `Celsius`\n",
    "- Convert the Fahrenheit temperatures from `TEMP` using the conversion formula (below) and store the results in the new `Celsius`column.\n",
    " ![formula](img/Fahrenheit_to_Celsius_formula.PNG)\n",
    " - Round the values in the `Celsius` column to have 0 decimals (**don't** create a new column --> update the current one)\n",
    " - Convert the `Celsius` values into integers (**don't** create a new column --> update the current one)\n",
    "\n"
   ]
  },
  {
   "cell_type": "code",
   "execution_count": 9,
   "metadata": {
    "deletable": false,
    "nbgrader": {
     "checksum": "c6f018759226eb12ac691f843d87989f",
     "grade": false,
     "grade_id": "temperature_calculation",
     "locked": false,
     "schema_version": 1,
     "solution": true
    }
   },
   "outputs": [
    {
     "name": "stderr",
     "output_type": "stream",
     "text": [
      "C:\\Users\\Michael\\Anaconda3\\lib\\site-packages\\ipykernel_launcher.py:1: SettingWithCopyWarning: \n",
      "A value is trying to be set on a copy of a slice from a DataFrame.\n",
      "Try using .loc[row_indexer,col_indexer] = value instead\n",
      "\n",
      "See the caveats in the documentation: http://pandas.pydata.org/pandas-docs/stable/indexing.html#indexing-view-versus-copy\n",
      "  \"\"\"Entry point for launching an IPython kernel.\n"
     ]
    }
   ],
   "source": []
  },
  {
   "cell_type": "code",
   "execution_count": 18,
   "metadata": {},
   "outputs": [
    {
     "name": "stdout",
     "output_type": "stream",
     "text": [
      "            USAF  YR--MODAHRMN  TEMP   MAX   MIN    Celsius\n",
      "0        28450.0  2.017050e+11  31.0   NaN   NaN  -0.555556\n",
      "1        28450.0  2.017050e+11  30.0   NaN   NaN  -1.111111\n",
      "2        28450.0  2.017050e+11  30.0   NaN   NaN  -1.111111\n",
      "3        28450.0  2.017050e+11  31.0   NaN   NaN  -0.555556\n",
      "4        28450.0  2.017050e+11  30.0   NaN   NaN  -1.111111\n",
      "5        28450.0  2.017050e+11  30.0   NaN   NaN  -1.111111\n",
      "6        28450.0  2.017050e+11  31.0   NaN   NaN  -0.555556\n",
      "7        28450.0  2.017050e+11  30.0   NaN   NaN  -1.111111\n",
      "8        28450.0  2.017050e+11  30.0   NaN   NaN  -1.111111\n",
      "9        28450.0  2.017050e+11  31.0   NaN   NaN  -0.555556\n",
      "10       28450.0  2.017050e+11  30.0   NaN   NaN  -1.111111\n",
      "11       28450.0  2.017050e+11  30.0   NaN   NaN  -1.111111\n",
      "12       28450.0  2.017050e+11  31.0   NaN   NaN  -0.555556\n",
      "13       28450.0  2.017050e+11  30.0   NaN   NaN  -1.111111\n",
      "14       28450.0  2.017050e+11  30.0   NaN   NaN  -1.111111\n",
      "15       28450.0  2.017050e+11  31.0   NaN   NaN  -0.555556\n",
      "16       28450.0  2.017050e+11  30.0   NaN   NaN  -1.111111\n",
      "17       28450.0  2.017050e+11  30.0   NaN   NaN  -1.111111\n",
      "18       28450.0  2.017050e+11  31.0  34.0  31.0  -0.555556\n",
      "19       28450.0  2.017050e+11  30.0   NaN   NaN  -1.111111\n",
      "20       28450.0  2.017050e+11  30.0   NaN   NaN  -1.111111\n",
      "21       28450.0  2.017050e+11  30.0   NaN   NaN  -1.111111\n",
      "22       28450.0  2.017050e+11  30.0   NaN   NaN  -1.111111\n",
      "23       28450.0  2.017050e+11  32.0   NaN   NaN   0.000000\n",
      "24       28450.0  2.017050e+11  32.0   NaN   NaN   0.000000\n",
      "25       28450.0  2.017050e+11  32.0   NaN   NaN   0.000000\n",
      "26       28450.0  2.017050e+11  34.0   NaN   NaN   1.111111\n",
      "27       28450.0  2.017050e+11  34.0   NaN   NaN   1.111111\n",
      "28       28450.0  2.017050e+11  34.0   NaN   NaN   1.111111\n",
      "29       28450.0  2.017050e+11  36.0   NaN   NaN   2.222222\n",
      "...          ...           ...   ...   ...   ...        ...\n",
      "11665    29980.0  2.017083e+11  62.0   NaN   NaN  16.666667\n",
      "11666    29980.0  2.017083e+11  62.0   NaN   NaN  16.666667\n",
      "11667    29980.0  2.017083e+11  62.0   NaN   NaN  16.666667\n",
      "11668    29980.0  2.017083e+11  62.0   NaN   NaN  16.666667\n",
      "11669    29980.0  2.017083e+11  61.0   NaN   NaN  16.111111\n",
      "11670    29980.0  2.017083e+11  62.0   NaN   NaN  16.666667\n",
      "11671    29980.0  2.017083e+11  61.0   NaN   NaN  16.111111\n",
      "11672    29980.0  2.017083e+11  61.0   NaN   NaN  16.111111\n",
      "11673    29980.0  2.017083e+11  60.0   NaN   NaN  15.555556\n",
      "11674    29980.0  2.017083e+11  60.0   NaN   NaN  15.555556\n",
      "11675    29980.0  2.017083e+11  60.0   NaN   NaN  15.555556\n",
      "11676    29980.0  2.017083e+11  61.0  63.0  59.0  16.111111\n",
      "11677    29980.0  2.017083e+11  61.0   NaN   NaN  16.111111\n",
      "11678    29980.0  2.017083e+11  62.0   NaN   NaN  16.666667\n",
      "11679    29980.0  2.017083e+11  62.0   NaN   NaN  16.666667\n",
      "11680    29980.0  2.017083e+11  63.0   NaN   NaN  17.222222\n",
      "11681    29980.0  2.017083e+11  63.0   NaN   NaN  17.222222\n",
      "11682    29980.0  2.017083e+11  65.0   NaN   NaN  18.333333\n",
      "11683    29980.0  2.017083e+11  66.0   NaN   NaN  18.888889\n",
      "11684    29980.0  2.017083e+11  66.0   NaN   NaN  18.888889\n",
      "11685    29980.0  2.017083e+11  66.0   NaN   NaN  18.888889\n",
      "11686    29980.0  2.017083e+11  62.0   NaN   NaN  16.666667\n",
      "11687    29980.0  2.017083e+11  62.0   NaN   NaN  16.666667\n",
      "11688    29980.0  2.017083e+11  64.0  66.0  61.0  17.777778\n",
      "11689    29980.0  2.017083e+11  64.0   NaN   NaN  17.777778\n",
      "11690    29980.0  2.017083e+11  64.0   NaN   NaN  17.777778\n",
      "11691    29980.0  2.017083e+11  64.0   NaN   NaN  17.777778\n",
      "11692    29980.0  2.017083e+11  64.0   NaN   NaN  17.777778\n",
      "11693    29980.0  2.017083e+11  64.0   NaN   NaN  17.777778\n",
      "Celsius      0.0  0.000000e+00   0.0   0.0   0.0 -17.777778\n",
      "\n",
      "[11692 rows x 6 columns]\n"
     ]
    },
    {
     "name": "stderr",
     "output_type": "stream",
     "text": [
      "C:\\Users\\Michael\\Anaconda3\\lib\\site-packages\\ipykernel_launcher.py:1: SettingWithCopyWarning: \n",
      "A value is trying to be set on a copy of a slice from a DataFrame.\n",
      "Try using .loc[row_indexer,col_indexer] = value instead\n",
      "\n",
      "See the caveats in the documentation: http://pandas.pydata.org/pandas-docs/stable/indexing.html#indexing-view-versus-copy\n",
      "  \"\"\"Entry point for launching an IPython kernel.\n"
     ]
    }
   ],
   "source": [
    "\n",
    "\n"
   ]
  },
  {
   "cell_type": "code",
   "execution_count": 41,
   "metadata": {
    "deletable": false,
    "editable": false,
    "nbgrader": {
     "checksum": "f0c59db46cfb61b83d4290b230a22f49",
     "grade": true,
     "grade_id": "temperature_calculation_test",
     "locked": true,
     "points": 2,
     "schema_version": 1,
     "solution": false
    }
   },
   "outputs": [
    {
     "data": {
      "text/html": [
       "<div>\n",
       "<style scoped>\n",
       "    .dataframe tbody tr th:only-of-type {\n",
       "        vertical-align: middle;\n",
       "    }\n",
       "\n",
       "    .dataframe tbody tr th {\n",
       "        vertical-align: top;\n",
       "    }\n",
       "\n",
       "    .dataframe thead th {\n",
       "        text-align: right;\n",
       "    }\n",
       "</style>\n",
       "<table border=\"1\" class=\"dataframe\">\n",
       "  <thead>\n",
       "    <tr style=\"text-align: right;\">\n",
       "      <th></th>\n",
       "      <th>USAF</th>\n",
       "      <th>YR--MODAHRMN</th>\n",
       "      <th>TEMP</th>\n",
       "      <th>MAX</th>\n",
       "      <th>MIN</th>\n",
       "    </tr>\n",
       "  </thead>\n",
       "  <tbody>\n",
       "    <tr>\n",
       "      <th>0</th>\n",
       "      <td>28450</td>\n",
       "      <td>201705010000</td>\n",
       "      <td>31.0</td>\n",
       "      <td>NaN</td>\n",
       "      <td>NaN</td>\n",
       "    </tr>\n",
       "    <tr>\n",
       "      <th>1</th>\n",
       "      <td>28450</td>\n",
       "      <td>201705010020</td>\n",
       "      <td>30.0</td>\n",
       "      <td>NaN</td>\n",
       "      <td>NaN</td>\n",
       "    </tr>\n",
       "    <tr>\n",
       "      <th>2</th>\n",
       "      <td>28450</td>\n",
       "      <td>201705010050</td>\n",
       "      <td>30.0</td>\n",
       "      <td>NaN</td>\n",
       "      <td>NaN</td>\n",
       "    </tr>\n",
       "    <tr>\n",
       "      <th>3</th>\n",
       "      <td>28450</td>\n",
       "      <td>201705010100</td>\n",
       "      <td>31.0</td>\n",
       "      <td>NaN</td>\n",
       "      <td>NaN</td>\n",
       "    </tr>\n",
       "    <tr>\n",
       "      <th>4</th>\n",
       "      <td>28450</td>\n",
       "      <td>201705010120</td>\n",
       "      <td>30.0</td>\n",
       "      <td>NaN</td>\n",
       "      <td>NaN</td>\n",
       "    </tr>\n",
       "  </tbody>\n",
       "</table>\n",
       "</div>"
      ],
      "text/plain": [
       "    USAF  YR--MODAHRMN  TEMP  MAX  MIN\n",
       "0  28450  201705010000  31.0  NaN  NaN\n",
       "1  28450  201705010020  30.0  NaN  NaN\n",
       "2  28450  201705010050  30.0  NaN  NaN\n",
       "3  28450  201705010100  31.0  NaN  NaN\n",
       "4  28450  201705010120  30.0  NaN  NaN"
      ]
     },
     "execution_count": 41,
     "metadata": {},
     "output_type": "execute_result"
    }
   ],
   "source": [
    "# Check your dataframe\n",
    "selected.head()\n"
   ]
  },
  {
   "cell_type": "code",
   "execution_count": 29,
   "metadata": {},
   "outputs": [
    {
     "name": "stdout",
     "output_type": "stream",
     "text": [
      "            USAF  YR--MODAHRMN  TEMP   MAX   MIN    Celsius\n",
      "0        28450.0  2.017050e+11  31.0   NaN   NaN  -0.555556\n",
      "1        28450.0  2.017050e+11  30.0   NaN   NaN  -1.111111\n",
      "2        28450.0  2.017050e+11  30.0   NaN   NaN  -1.111111\n",
      "3        28450.0  2.017050e+11  31.0   NaN   NaN  -0.555556\n",
      "4        28450.0  2.017050e+11  30.0   NaN   NaN  -1.111111\n",
      "5        28450.0  2.017050e+11  30.0   NaN   NaN  -1.111111\n",
      "6        28450.0  2.017050e+11  31.0   NaN   NaN  -0.555556\n",
      "7        28450.0  2.017050e+11  30.0   NaN   NaN  -1.111111\n",
      "8        28450.0  2.017050e+11  30.0   NaN   NaN  -1.111111\n",
      "9        28450.0  2.017050e+11  31.0   NaN   NaN  -0.555556\n",
      "10       28450.0  2.017050e+11  30.0   NaN   NaN  -1.111111\n",
      "11       28450.0  2.017050e+11  30.0   NaN   NaN  -1.111111\n",
      "12       28450.0  2.017050e+11  31.0   NaN   NaN  -0.555556\n",
      "13       28450.0  2.017050e+11  30.0   NaN   NaN  -1.111111\n",
      "14       28450.0  2.017050e+11  30.0   NaN   NaN  -1.111111\n",
      "15       28450.0  2.017050e+11  31.0   NaN   NaN  -0.555556\n",
      "16       28450.0  2.017050e+11  30.0   NaN   NaN  -1.111111\n",
      "17       28450.0  2.017050e+11  30.0   NaN   NaN  -1.111111\n",
      "18       28450.0  2.017050e+11  31.0  34.0  31.0  -0.555556\n",
      "19       28450.0  2.017050e+11  30.0   NaN   NaN  -1.111111\n",
      "20       28450.0  2.017050e+11  30.0   NaN   NaN  -1.111111\n",
      "21       28450.0  2.017050e+11  30.0   NaN   NaN  -1.111111\n",
      "22       28450.0  2.017050e+11  30.0   NaN   NaN  -1.111111\n",
      "23       28450.0  2.017050e+11  32.0   NaN   NaN   0.000000\n",
      "24       28450.0  2.017050e+11  32.0   NaN   NaN   0.000000\n",
      "25       28450.0  2.017050e+11  32.0   NaN   NaN   0.000000\n",
      "26       28450.0  2.017050e+11  34.0   NaN   NaN   1.111111\n",
      "27       28450.0  2.017050e+11  34.0   NaN   NaN   1.111111\n",
      "28       28450.0  2.017050e+11  34.0   NaN   NaN   1.111111\n",
      "29       28450.0  2.017050e+11  36.0   NaN   NaN   2.222222\n",
      "...          ...           ...   ...   ...   ...        ...\n",
      "11665    29980.0  2.017083e+11  62.0   NaN   NaN  16.666667\n",
      "11666    29980.0  2.017083e+11  62.0   NaN   NaN  16.666667\n",
      "11667    29980.0  2.017083e+11  62.0   NaN   NaN  16.666667\n",
      "11668    29980.0  2.017083e+11  62.0   NaN   NaN  16.666667\n",
      "11669    29980.0  2.017083e+11  61.0   NaN   NaN  16.111111\n",
      "11670    29980.0  2.017083e+11  62.0   NaN   NaN  16.666667\n",
      "11671    29980.0  2.017083e+11  61.0   NaN   NaN  16.111111\n",
      "11672    29980.0  2.017083e+11  61.0   NaN   NaN  16.111111\n",
      "11673    29980.0  2.017083e+11  60.0   NaN   NaN  15.555556\n",
      "11674    29980.0  2.017083e+11  60.0   NaN   NaN  15.555556\n",
      "11675    29980.0  2.017083e+11  60.0   NaN   NaN  15.555556\n",
      "11676    29980.0  2.017083e+11  61.0  63.0  59.0  16.111111\n",
      "11677    29980.0  2.017083e+11  61.0   NaN   NaN  16.111111\n",
      "11678    29980.0  2.017083e+11  62.0   NaN   NaN  16.666667\n",
      "11679    29980.0  2.017083e+11  62.0   NaN   NaN  16.666667\n",
      "11680    29980.0  2.017083e+11  63.0   NaN   NaN  17.222222\n",
      "11681    29980.0  2.017083e+11  63.0   NaN   NaN  17.222222\n",
      "11682    29980.0  2.017083e+11  65.0   NaN   NaN  18.333333\n",
      "11683    29980.0  2.017083e+11  66.0   NaN   NaN  18.888889\n",
      "11684    29980.0  2.017083e+11  66.0   NaN   NaN  18.888889\n",
      "11685    29980.0  2.017083e+11  66.0   NaN   NaN  18.888889\n",
      "11686    29980.0  2.017083e+11  62.0   NaN   NaN  16.666667\n",
      "11687    29980.0  2.017083e+11  62.0   NaN   NaN  16.666667\n",
      "11688    29980.0  2.017083e+11  64.0  66.0  61.0  17.777778\n",
      "11689    29980.0  2.017083e+11  64.0   NaN   NaN  17.777778\n",
      "11690    29980.0  2.017083e+11  64.0   NaN   NaN  17.777778\n",
      "11691    29980.0  2.017083e+11  64.0   NaN   NaN  17.777778\n",
      "11692    29980.0  2.017083e+11  64.0   NaN   NaN  17.777778\n",
      "11693    29980.0  2.017083e+11  64.0   NaN   NaN  17.777778\n",
      "Celsius      0.0  0.000000e+00   0.0   0.0   0.0 -17.777778\n",
      "\n",
      "[11692 rows x 6 columns]\n",
      "            USAF  YR--MODAHRMN  TEMP   MAX   MIN  Celsius\n",
      "0        28450.0  2.017050e+11  31.0   NaN   NaN     -1.0\n",
      "1        28450.0  2.017050e+11  30.0   NaN   NaN     -1.0\n",
      "2        28450.0  2.017050e+11  30.0   NaN   NaN     -1.0\n",
      "3        28450.0  2.017050e+11  31.0   NaN   NaN     -1.0\n",
      "4        28450.0  2.017050e+11  30.0   NaN   NaN     -1.0\n",
      "5        28450.0  2.017050e+11  30.0   NaN   NaN     -1.0\n",
      "6        28450.0  2.017050e+11  31.0   NaN   NaN     -1.0\n",
      "7        28450.0  2.017050e+11  30.0   NaN   NaN     -1.0\n",
      "8        28450.0  2.017050e+11  30.0   NaN   NaN     -1.0\n",
      "9        28450.0  2.017050e+11  31.0   NaN   NaN     -1.0\n",
      "10       28450.0  2.017050e+11  30.0   NaN   NaN     -1.0\n",
      "11       28450.0  2.017050e+11  30.0   NaN   NaN     -1.0\n",
      "12       28450.0  2.017050e+11  31.0   NaN   NaN     -1.0\n",
      "13       28450.0  2.017050e+11  30.0   NaN   NaN     -1.0\n",
      "14       28450.0  2.017050e+11  30.0   NaN   NaN     -1.0\n",
      "15       28450.0  2.017050e+11  31.0   NaN   NaN     -1.0\n",
      "16       28450.0  2.017050e+11  30.0   NaN   NaN     -1.0\n",
      "17       28450.0  2.017050e+11  30.0   NaN   NaN     -1.0\n",
      "18       28450.0  2.017050e+11  31.0  34.0  31.0     -1.0\n",
      "19       28450.0  2.017050e+11  30.0   NaN   NaN     -1.0\n",
      "20       28450.0  2.017050e+11  30.0   NaN   NaN     -1.0\n",
      "21       28450.0  2.017050e+11  30.0   NaN   NaN     -1.0\n",
      "22       28450.0  2.017050e+11  30.0   NaN   NaN     -1.0\n",
      "23       28450.0  2.017050e+11  32.0   NaN   NaN      0.0\n",
      "24       28450.0  2.017050e+11  32.0   NaN   NaN      0.0\n",
      "25       28450.0  2.017050e+11  32.0   NaN   NaN      0.0\n",
      "26       28450.0  2.017050e+11  34.0   NaN   NaN      1.0\n",
      "27       28450.0  2.017050e+11  34.0   NaN   NaN      1.0\n",
      "28       28450.0  2.017050e+11  34.0   NaN   NaN      1.0\n",
      "29       28450.0  2.017050e+11  36.0   NaN   NaN      2.0\n",
      "...          ...           ...   ...   ...   ...      ...\n",
      "11665    29980.0  2.017083e+11  62.0   NaN   NaN     17.0\n",
      "11666    29980.0  2.017083e+11  62.0   NaN   NaN     17.0\n",
      "11667    29980.0  2.017083e+11  62.0   NaN   NaN     17.0\n",
      "11668    29980.0  2.017083e+11  62.0   NaN   NaN     17.0\n",
      "11669    29980.0  2.017083e+11  61.0   NaN   NaN     16.0\n",
      "11670    29980.0  2.017083e+11  62.0   NaN   NaN     17.0\n",
      "11671    29980.0  2.017083e+11  61.0   NaN   NaN     16.0\n",
      "11672    29980.0  2.017083e+11  61.0   NaN   NaN     16.0\n",
      "11673    29980.0  2.017083e+11  60.0   NaN   NaN     16.0\n",
      "11674    29980.0  2.017083e+11  60.0   NaN   NaN     16.0\n",
      "11675    29980.0  2.017083e+11  60.0   NaN   NaN     16.0\n",
      "11676    29980.0  2.017083e+11  61.0  63.0  59.0     16.0\n",
      "11677    29980.0  2.017083e+11  61.0   NaN   NaN     16.0\n",
      "11678    29980.0  2.017083e+11  62.0   NaN   NaN     17.0\n",
      "11679    29980.0  2.017083e+11  62.0   NaN   NaN     17.0\n",
      "11680    29980.0  2.017083e+11  63.0   NaN   NaN     17.0\n",
      "11681    29980.0  2.017083e+11  63.0   NaN   NaN     17.0\n",
      "11682    29980.0  2.017083e+11  65.0   NaN   NaN     18.0\n",
      "11683    29980.0  2.017083e+11  66.0   NaN   NaN     19.0\n",
      "11684    29980.0  2.017083e+11  66.0   NaN   NaN     19.0\n",
      "11685    29980.0  2.017083e+11  66.0   NaN   NaN     19.0\n",
      "11686    29980.0  2.017083e+11  62.0   NaN   NaN     17.0\n",
      "11687    29980.0  2.017083e+11  62.0   NaN   NaN     17.0\n",
      "11688    29980.0  2.017083e+11  64.0  66.0  61.0     18.0\n",
      "11689    29980.0  2.017083e+11  64.0   NaN   NaN     18.0\n",
      "11690    29980.0  2.017083e+11  64.0   NaN   NaN     18.0\n",
      "11691    29980.0  2.017083e+11  64.0   NaN   NaN     18.0\n",
      "11692    29980.0  2.017083e+11  64.0   NaN   NaN     18.0\n",
      "11693    29980.0  2.017083e+11  64.0   NaN   NaN     18.0\n",
      "Celsius      0.0  0.000000e+00   0.0   0.0   0.0    -18.0\n",
      "\n",
      "[11692 rows x 6 columns]\n"
     ]
    },
    {
     "name": "stderr",
     "output_type": "stream",
     "text": [
      "C:\\Users\\Michael\\Anaconda3\\lib\\site-packages\\ipykernel_launcher.py:1: SettingWithCopyWarning: \n",
      "A value is trying to be set on a copy of a slice from a DataFrame.\n",
      "Try using .loc[row_indexer,col_indexer] = value instead\n",
      "\n",
      "See the caveats in the documentation: http://pandas.pydata.org/pandas-docs/stable/indexing.html#indexing-view-versus-copy\n",
      "  \"\"\"Entry point for launching an IPython kernel.\n",
      "C:\\Users\\Michael\\Anaconda3\\lib\\site-packages\\ipykernel_launcher.py:3: SettingWithCopyWarning: \n",
      "A value is trying to be set on a copy of a slice from a DataFrame.\n",
      "Try using .loc[row_indexer,col_indexer] = value instead\n",
      "\n",
      "See the caveats in the documentation: http://pandas.pydata.org/pandas-docs/stable/indexing.html#indexing-view-versus-copy\n",
      "  This is separate from the ipykernel package so we can avoid doing imports until\n"
     ]
    }
   ],
   "source": [
    "dataCleaned['Celsius'] = (dataCleaned['TEMP'] - 32)/1.8\n",
    "print(dataCleaned)\n",
    "dataCleaned['Celsius'] =dataCleaned['Celsius'].round(0) \n",
    "print(dataCleaned)\n",
    "\n"
   ]
  },
  {
   "cell_type": "code",
   "execution_count": 37,
   "metadata": {},
   "outputs": [
    {
     "name": "stdout",
     "output_type": "stream",
     "text": [
      "USAF            float64\n",
      "YR--MODAHRMN    float64\n",
      "TEMP            float64\n",
      "MAX             float64\n",
      "MIN             float64\n",
      "Celsius           int32\n",
      "dtype: object\n",
      "            USAF  YR--MODAHRMN  TEMP   MAX   MIN  Celsius\n",
      "0        28450.0  2.017050e+11  31.0   NaN   NaN       -1\n",
      "1        28450.0  2.017050e+11  30.0   NaN   NaN       -1\n",
      "2        28450.0  2.017050e+11  30.0   NaN   NaN       -1\n",
      "3        28450.0  2.017050e+11  31.0   NaN   NaN       -1\n",
      "4        28450.0  2.017050e+11  30.0   NaN   NaN       -1\n",
      "5        28450.0  2.017050e+11  30.0   NaN   NaN       -1\n",
      "6        28450.0  2.017050e+11  31.0   NaN   NaN       -1\n",
      "7        28450.0  2.017050e+11  30.0   NaN   NaN       -1\n",
      "8        28450.0  2.017050e+11  30.0   NaN   NaN       -1\n",
      "9        28450.0  2.017050e+11  31.0   NaN   NaN       -1\n",
      "10       28450.0  2.017050e+11  30.0   NaN   NaN       -1\n",
      "11       28450.0  2.017050e+11  30.0   NaN   NaN       -1\n",
      "12       28450.0  2.017050e+11  31.0   NaN   NaN       -1\n",
      "13       28450.0  2.017050e+11  30.0   NaN   NaN       -1\n",
      "14       28450.0  2.017050e+11  30.0   NaN   NaN       -1\n",
      "15       28450.0  2.017050e+11  31.0   NaN   NaN       -1\n",
      "16       28450.0  2.017050e+11  30.0   NaN   NaN       -1\n",
      "17       28450.0  2.017050e+11  30.0   NaN   NaN       -1\n",
      "18       28450.0  2.017050e+11  31.0  34.0  31.0       -1\n",
      "19       28450.0  2.017050e+11  30.0   NaN   NaN       -1\n",
      "20       28450.0  2.017050e+11  30.0   NaN   NaN       -1\n",
      "21       28450.0  2.017050e+11  30.0   NaN   NaN       -1\n",
      "22       28450.0  2.017050e+11  30.0   NaN   NaN       -1\n",
      "23       28450.0  2.017050e+11  32.0   NaN   NaN        0\n",
      "24       28450.0  2.017050e+11  32.0   NaN   NaN        0\n",
      "25       28450.0  2.017050e+11  32.0   NaN   NaN        0\n",
      "26       28450.0  2.017050e+11  34.0   NaN   NaN        1\n",
      "27       28450.0  2.017050e+11  34.0   NaN   NaN        1\n",
      "28       28450.0  2.017050e+11  34.0   NaN   NaN        1\n",
      "29       28450.0  2.017050e+11  36.0   NaN   NaN        2\n",
      "...          ...           ...   ...   ...   ...      ...\n",
      "11665    29980.0  2.017083e+11  62.0   NaN   NaN       17\n",
      "11666    29980.0  2.017083e+11  62.0   NaN   NaN       17\n",
      "11667    29980.0  2.017083e+11  62.0   NaN   NaN       17\n",
      "11668    29980.0  2.017083e+11  62.0   NaN   NaN       17\n",
      "11669    29980.0  2.017083e+11  61.0   NaN   NaN       16\n",
      "11670    29980.0  2.017083e+11  62.0   NaN   NaN       17\n",
      "11671    29980.0  2.017083e+11  61.0   NaN   NaN       16\n",
      "11672    29980.0  2.017083e+11  61.0   NaN   NaN       16\n",
      "11673    29980.0  2.017083e+11  60.0   NaN   NaN       16\n",
      "11674    29980.0  2.017083e+11  60.0   NaN   NaN       16\n",
      "11675    29980.0  2.017083e+11  60.0   NaN   NaN       16\n",
      "11676    29980.0  2.017083e+11  61.0  63.0  59.0       16\n",
      "11677    29980.0  2.017083e+11  61.0   NaN   NaN       16\n",
      "11678    29980.0  2.017083e+11  62.0   NaN   NaN       17\n",
      "11679    29980.0  2.017083e+11  62.0   NaN   NaN       17\n",
      "11680    29980.0  2.017083e+11  63.0   NaN   NaN       17\n",
      "11681    29980.0  2.017083e+11  63.0   NaN   NaN       17\n",
      "11682    29980.0  2.017083e+11  65.0   NaN   NaN       18\n",
      "11683    29980.0  2.017083e+11  66.0   NaN   NaN       19\n",
      "11684    29980.0  2.017083e+11  66.0   NaN   NaN       19\n",
      "11685    29980.0  2.017083e+11  66.0   NaN   NaN       19\n",
      "11686    29980.0  2.017083e+11  62.0   NaN   NaN       17\n",
      "11687    29980.0  2.017083e+11  62.0   NaN   NaN       17\n",
      "11688    29980.0  2.017083e+11  64.0  66.0  61.0       18\n",
      "11689    29980.0  2.017083e+11  64.0   NaN   NaN       18\n",
      "11690    29980.0  2.017083e+11  64.0   NaN   NaN       18\n",
      "11691    29980.0  2.017083e+11  64.0   NaN   NaN       18\n",
      "11692    29980.0  2.017083e+11  64.0   NaN   NaN       18\n",
      "11693    29980.0  2.017083e+11  64.0   NaN   NaN       18\n",
      "Celsius      0.0  0.000000e+00   0.0   0.0   0.0      -18\n",
      "\n",
      "[11692 rows x 6 columns]\n"
     ]
    },
    {
     "name": "stderr",
     "output_type": "stream",
     "text": [
      "C:\\Users\\Michael\\Anaconda3\\lib\\site-packages\\ipykernel_launcher.py:1: SettingWithCopyWarning: \n",
      "A value is trying to be set on a copy of a slice from a DataFrame.\n",
      "Try using .loc[row_indexer,col_indexer] = value instead\n",
      "\n",
      "See the caveats in the documentation: http://pandas.pydata.org/pandas-docs/stable/indexing.html#indexing-view-versus-copy\n",
      "  \"\"\"Entry point for launching an IPython kernel.\n"
     ]
    }
   ],
   "source": [
    "dataCleaned['Celsius'] = dataCleaned['Celsius'].astype(int)\n",
    "print(dataCleaned.dtypes)\n",
    "print(dataCleaned)"
   ]
  },
  {
   "cell_type": "markdown",
   "metadata": {
    "deletable": false,
    "editable": false,
    "nbgrader": {
     "checksum": "423bab516ac33ff6950daf750ba455c7",
     "grade": false,
     "grade_id": "cell-a63fda07b93db87f",
     "locked": true,
     "schema_version": 1,
     "solution": false
    }
   },
   "source": [
    "**Finalize your submission for Problem 2a** (1 point)\n",
    "- Check that you have commented your code (add inline comments explaining what your code does)\n",
    "- At this point, commit and push your changes to GitHub\n",
    "- Was anything unclear to you until this point? Write your comments to the cell below."
   ]
  },
  {
   "cell_type": "markdown",
   "metadata": {
    "deletable": false,
    "nbgrader": {
     "checksum": "31479cd23e51ec84156b569f6ef22a4b",
     "grade": true,
     "grade_id": "comments",
     "locked": false,
     "points": 1,
     "schema_version": 1,
     "solution": true
    }
   },
   "source": [
    "YOUR ANSWER HERE"
   ]
  },
  {
   "cell_type": "markdown",
   "metadata": {
    "collapsed": true
   },
   "source": [
    "\n",
    "## Problem 2b - Data selection (5 points)\n",
    "\n",
    "In this problem you should divide the data into separate subsets for different stations and save those DataFrames into csv files.\n",
    "\n",
    "**Divide the selection into two separate datasets:** (2 points)\n",
    "  - Select all rows from `selected` DataFrame into variable called `kumpula` where the `USAF` code is `29980`\n",
    "  - Select all rows from `selected` DataFrame into variable called `rovaniemi` where the `USAF` code is `28450`\n",
    "  \n",
    "Please use the given variable names and write your answer to the codeblock below."
   ]
  },
  {
   "cell_type": "code",
   "execution_count": 45,
   "metadata": {
    "deletable": false,
    "nbgrader": {
     "checksum": "67e5f4d4848e1cce9f24377fd953f103",
     "grade": false,
     "grade_id": "subsets",
     "locked": false,
     "schema_version": 1,
     "solution": true
    }
   },
   "outputs": [],
   "source": [
    "# YOUR CODE HERE\n",
    "kumpula = selected.loc[(selected['USAF'] == 29980)]\n",
    "rovaniemi = selected.loc[(selected['USAF'] == 28450)]"
   ]
  },
  {
   "cell_type": "code",
   "execution_count": 46,
   "metadata": {
    "deletable": false,
    "editable": false,
    "nbgrader": {
     "checksum": "b17bfbb62cfe7dccb29a43dfcf482680",
     "grade": true,
     "grade_id": "subsets_test",
     "locked": true,
     "points": 2,
     "schema_version": 1,
     "solution": false
    }
   },
   "outputs": [
    {
     "name": "stdout",
     "output_type": "stream",
     "text": [
      "Kumpula: \n",
      "        USAF  YR--MODAHRMN  TEMP  MAX  MIN\n",
      "8770  29980  201705010000  37.0  NaN  NaN\n",
      "8771  29980  201705010100  37.0  NaN  NaN\n",
      "8772  29980  201705010200  37.0  NaN  NaN\n",
      "8773  29980  201705010300  37.0  NaN  NaN\n",
      "8774  29980  201705010400  39.0  NaN  NaN \n",
      "\n",
      "Rovaniemi: \n",
      "     USAF  YR--MODAHRMN  TEMP  MAX  MIN\n",
      "0  28450  201705010000  31.0  NaN  NaN\n",
      "1  28450  201705010020  30.0  NaN  NaN\n",
      "2  28450  201705010050  30.0  NaN  NaN\n",
      "3  28450  201705010100  31.0  NaN  NaN\n",
      "4  28450  201705010120  30.0  NaN  NaN \n",
      "\n"
     ]
    }
   ],
   "source": [
    "# Check the dataframes (you don't need to modify this cell)\n",
    "print(\"Kumpula: \\n\", kumpula.head(), \"\\n\")\n",
    "print(\"Rovaniemi: \\n\", rovaniemi.head(), \"\\n\")\n"
   ]
  },
  {
   "cell_type": "markdown",
   "metadata": {},
   "source": [
    "**Save selections to csv files** (2points)\n",
    "- Save `kumpula` DataFrame into `Kumpula_temps_May_Aug_2017.csv` file (CSV format) \n",
    "   - separate the columns with  comma (`,`)\n",
    "   - use only 2 decimals in the floating point numbers\n",
    "- Save `rovaniemi` DataFrame into `Rovaniemi_temps_May_Aug_2017.csv` file (CSV format) \n",
    "   - separate the columns with comma (`,`)\n",
    "   - use only 2 decimals in the floating point numbers\n"
   ]
  },
  {
   "cell_type": "code",
   "execution_count": 49,
   "metadata": {
    "deletable": false,
    "nbgrader": {
     "checksum": "c3f5a426f626ebbe3371f1771702f54f",
     "grade": true,
     "grade_id": "to_csv",
     "locked": false,
     "points": 2,
     "schema_version": 1,
     "solution": true
    }
   },
   "outputs": [],
   "source": [
    "outputKumpula = \"Kumpula_temps_May_Aug_2017.csv\"\n",
    "kumpula.to_csv(outputKumpula, sep=\",\")"
   ]
  },
  {
   "cell_type": "code",
   "execution_count": null,
   "metadata": {
    "deletable": false,
    "editable": false,
    "nbgrader": {
     "checksum": "e17856f48590694e60c5a062246d4739",
     "grade": true,
     "grade_id": "to_csv_test",
     "locked": true,
     "points": 0,
     "schema_version": 1,
     "solution": false
    }
   },
   "outputs": [],
   "source": []
  },
  {
   "cell_type": "code",
   "execution_count": 50,
   "metadata": {},
   "outputs": [],
   "source": [
    "outputRovaniemi = \"Rovaniemi_temps_May_Aug_2017.csv\"\n",
    "rovaniemi.to_csv(outputRovani)"
   ]
  },
  {
   "cell_type": "markdown",
   "metadata": {
    "deletable": false,
    "editable": false,
    "nbgrader": {
     "checksum": "e322f6406b46b37c3504f90f127d6d72",
     "grade": false,
     "grade_id": "cell-3d8b5609d0cea2a9",
     "locked": true,
     "schema_version": 1,
     "solution": false
    }
   },
   "source": [
    "**Commit and push changes (including the 2 csv files!) into your GitHub repository for Exercise 5** (1 point)\n",
    "\n",
    "Did you encounter any problems with decimal formatting?"
   ]
  },
  {
   "cell_type": "markdown",
   "metadata": {
    "deletable": false,
    "nbgrader": {
     "checksum": "09b04052fd8c27c1c62c2a515ccda2d4",
     "grade": true,
     "grade_id": "upload_csv_files",
     "locked": false,
     "points": 1,
     "schema_version": 1,
     "solution": true
    }
   },
   "source": [
    "YOUR ANSWER HERE"
   ]
  },
  {
   "cell_type": "markdown",
   "metadata": {
    "collapsed": true
   },
   "source": [
    "Now you can continue to [problem 3: Data analysis](Exercise-5-problem3.ipynb)"
   ]
  }
 ],
 "metadata": {
  "anaconda-cloud": {},
  "kernelspec": {
   "display_name": "Python 3",
   "language": "python",
   "name": "python3"
  },
  "language_info": {
   "codemirror_mode": {
    "name": "ipython",
    "version": 3
   },
   "file_extension": ".py",
   "mimetype": "text/x-python",
   "name": "python",
   "nbconvert_exporter": "python",
   "pygments_lexer": "ipython3",
   "version": "3.7.3"
  }
 },
 "nbformat": 4,
 "nbformat_minor": 2
}
