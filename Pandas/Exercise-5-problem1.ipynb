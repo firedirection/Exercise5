{
 "cells": [
  {
   "cell_type": "markdown",
   "metadata": {
    "deletable": false,
    "editable": false,
    "nbgrader": {
     "checksum": "fbb4001e9f5c5191bb4dc7b2961f0e6f",
     "grade": false,
     "grade_id": "cell-1e760a9173223eac",
     "locked": true,
     "schema_version": 1,
     "solution": false
    }
   },
   "source": [
    "## Problem 1 - Basic statistics of the data (5 points)\n",
    "\n",
    "In this problem your task is to open and explore the NOAA weather data using Pandas. The data file name is [6153237444115dat.csv](6153237444115dat.csv). Please answer the given tasks write your code into the codeblocks below.\n",
    "\n",
    "- **import Pandas module** (1 points)\n",
    "- **read the data** using pandas into a variable called **`data`** (1.5 points)\n",
    "\n",
    "**Important**: When reading the data, you need to tell Pandas that no-data values are specified with varying number of \\* characters. You can do this by specifying a following parameter in the `read_csv()` -function: \n",
    "  \n",
    "  `na_values=['*', '**', '***', '****', '*****', '******']`\n",
    "     "
   ]
  },
  {
   "cell_type": "code",
   "execution_count": 2,
   "metadata": {
    "deletable": false,
    "nbgrader": {
     "checksum": "bdfc2418883976470f10eee531a8167e",
     "grade": false,
     "grade_id": "read_csv",
     "locked": false,
     "schema_version": 1,
     "solution": true
    }
   },
   "outputs": [],
   "source": [
    "# YOUR CODE HERE\n",
    "import pandas as pd\n",
    "dataFrame = pd.read_csv(\"6153237444115dat.csv\",na_values=['*', '**', '***', '****', '*****', '******'] )"
   ]
  },
  {
   "cell_type": "markdown",
   "metadata": {},
   "source": [
    "In the codeblock below, print answers to these questions:\n",
    "- How many rows is there in the data?\n",
    "- What are the column names?\n",
    "- What are the datatypes of the columns?"
   ]
  },
  {
   "cell_type": "code",
   "execution_count": null,
   "metadata": {
    "collapsed": true,
    "deletable": false,
    "editable": false,
    "nbgrader": {
     "checksum": "792770a033f8c35bd0a7a7ee306bb50d",
     "grade": true,
     "grade_id": "read_csv_test",
     "locked": true,
     "points": 2.5,
     "schema_version": 1,
     "solution": false
    }
   },
   "outputs": [],
   "source": [
    "# Print number of rows in the dataframe:\n",
    "\n",
    "# Print column names:\n",
    "\n",
    "# Print column datatypes:\n",
    "\n",
    "\n"
   ]
  },
  {
   "cell_type": "code",
   "execution_count": 19,
   "metadata": {},
   "outputs": [
    {
     "name": "stdout",
     "output_type": "stream",
     "text": [
      "Index(['USAF', 'WBAN', 'YR--MODAHRMN', 'DIR', 'SPD', 'GUS', 'CLG', 'SKC', 'L',\n",
      "       'M', 'H', 'VSB', 'MW', 'MW.1', 'MW.2', 'MW.3', 'AW', 'AW.1', 'AW.2',\n",
      "       'AW.3', 'W', 'TEMP', 'DEWP', 'SLP', 'ALT', 'STP', 'MAX', 'MIN', 'PCP01',\n",
      "       'PCP06', 'PCP24', 'PCPXX', 'SD'],\n",
      "      dtype='object')\n",
      "(11694, 33)\n",
      "USAF              int64\n",
      "WBAN              int64\n",
      "YR--MODAHRMN      int64\n",
      "DIR             float64\n",
      "SPD             float64\n",
      "GUS             float64\n",
      "CLG             float64\n",
      "SKC              object\n",
      "L               float64\n",
      "M               float64\n",
      "H               float64\n",
      "VSB             float64\n",
      "MW              float64\n",
      "MW.1            float64\n",
      "MW.2            float64\n",
      "MW.3            float64\n",
      "AW              float64\n",
      "AW.1            float64\n",
      "AW.2            float64\n",
      "AW.3            float64\n",
      "W               float64\n",
      "TEMP            float64\n",
      "DEWP            float64\n",
      "SLP             float64\n",
      "ALT             float64\n",
      "STP             float64\n",
      "MAX             float64\n",
      "MIN             float64\n",
      "PCP01           float64\n",
      "PCP06           float64\n",
      "PCP24           float64\n",
      "PCPXX           float64\n",
      "SD              float64\n",
      "dtype: object\n"
     ]
    }
   ],
   "source": [
    "len(dataFrame)\n",
    "dataFrame.head()\n",
    "print(dataFrame.columns)\n",
    "print(dataFrame.shape)\n",
    "print(dataFrame.dtypes)"
   ]
  },
  {
   "cell_type": "markdown",
   "metadata": {},
   "source": [
    "**Explore basic statistics in the data** (1.5 points)\n",
    "- What is the mean Fahrenheit temperature in the data? (`TEMP` column)\n",
    "- What is the standard deviation of the Maximum temperature? (`MAX` column)\n",
    "- How many unique stations exists in the data? (`USAF` column)\n",
    "\n",
    "Please use the suggested variable names to store the results"
   ]
  },
  {
   "cell_type": "code",
   "execution_count": 16,
   "metadata": {
    "deletable": false,
    "nbgrader": {
     "checksum": "23255f91f9509ac5f62355e3a36bb35b",
     "grade": false,
     "grade_id": "basic_statistics",
     "locked": false,
     "schema_version": 1,
     "solution": true
    }
   },
   "outputs": [],
   "source": [
    "\n",
    "\n",
    "temp_mean = dataFrame[\"TEMP\"].mean()\n",
    "\n",
    "\n",
    "temp_max_std = dataFrame[\"MAX\"].std()\n",
    "\n",
    "\n",
    "station_count = len(dataFrame[\"USAF\"].unique())"
   ]
  },
  {
   "cell_type": "markdown",
   "metadata": {},
   "source": [
    "Once you have defined the variables above, you can print the answers using these print statements (you don't need to change anything in the code block below!)"
   ]
  },
  {
   "cell_type": "code",
   "execution_count": 17,
   "metadata": {
    "deletable": false,
    "editable": false,
    "nbgrader": {
     "checksum": "1b9157174b880501e2c255155012c004",
     "grade": true,
     "grade_id": "basic_statistics_test",
     "locked": true,
     "points": 1.5,
     "schema_version": 1,
     "solution": false
    }
   },
   "outputs": [
    {
     "name": "stdout",
     "output_type": "stream",
     "text": [
      "Mean temperature in Fahrenheit is  52.2\n",
      "Sandard deviation of maximum temperature is  10.3\n",
      "The number of unique stations is  2\n"
     ]
    }
   ],
   "source": [
    "print(\"Mean temperature in Fahrenheit is \", round(temp_mean,1))\n",
    "print(\"Sandard deviation of maximum temperature is \", round(temp_max_std, 1))\n",
    "print(\"The number of unique stations is \", station_count)\n"
   ]
  },
  {
   "cell_type": "markdown",
   "metadata": {
    "deletable": false,
    "editable": false,
    "nbgrader": {
     "checksum": "2694a91bafadbb296696ba6ceee60d05",
     "grade": false,
     "grade_id": "questions",
     "locked": true,
     "schema_version": 1,
     "solution": false
    }
   },
   "source": [
    "**Finalize your answer to problem 1** (1 point)\n",
    "- Check that your code includes informative comments explaining what your code does\n",
    "- Commit and push your changes to your GitHub repository for Exercise 5\n",
    "- Did you have any problems at this stage?"
   ]
  },
  {
   "cell_type": "markdown",
   "metadata": {
    "collapsed": true,
    "deletable": false,
    "nbgrader": {
     "checksum": "6881cdb962429f1664a6b82b73185c98",
     "grade": true,
     "grade_id": "questions_check",
     "locked": false,
     "points": 1,
     "schema_version": 1,
     "solution": true
    }
   },
   "source": [
    "YOUR ANSWER HERE"
   ]
  },
  {
   "cell_type": "markdown",
   "metadata": {},
   "source": [
    "Now you can continue to [Problem 2: Data manipulation and subsetting](Exercise-5-problem2.ipynb)\n",
    "\n",
    "\n"
   ]
  }
 ],
 "metadata": {
  "anaconda-cloud": {},
  "kernelspec": {
   "display_name": "Python 3",
   "language": "python",
   "name": "python3"
  },
  "language_info": {
   "codemirror_mode": {
    "name": "ipython",
    "version": 3
   },
   "file_extension": ".py",
   "mimetype": "text/x-python",
   "name": "python",
   "nbconvert_exporter": "python",
   "pygments_lexer": "ipython3",
   "version": "3.7.3"
  }
 },
 "nbformat": 4,
 "nbformat_minor": 2
}
